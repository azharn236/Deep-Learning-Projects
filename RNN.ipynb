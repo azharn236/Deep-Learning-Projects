{
  "cells": [
    {
      "cell_type": "code",
      "execution_count": null,
      "metadata": {
        "id": "cqbEZRAzd512"
      },
      "outputs": [],
      "source": [
        "import numpy as np\n",
        "from keras.models import Sequential\n",
        "from keras.layers import Dense, Activation, SimpleRNN\n",
        "from keras.utils import to_categorical, plot_model\n",
        "from keras.datasets import mnist"
      ]
    },
    {
      "cell_type": "code",
      "execution_count": null,
      "metadata": {
        "colab": {
          "base_uri": "https://localhost:8080/"
        },
        "id": "6XASCoYte08F",
        "outputId": "bba27612-d787-41d9-c40e-ab2a4059f3dc"
      },
      "outputs": [
        {
          "name": "stdout",
          "output_type": "stream",
          "text": [
            "10\n"
          ]
        }
      ],
      "source": [
        "(x_train, y_train), (x_test, y_test) = mnist.load_data()\n",
        "num_labels = len(np.unique(y_train))\n",
        "print(num_labels)"
      ]
    },
    {
      "cell_type": "code",
      "execution_count": null,
      "metadata": {
        "colab": {
          "base_uri": "https://localhost:8080/"
        },
        "id": "o_wppQPbfECB",
        "outputId": "6d4d8097-6fea-4104-bad7-fc8c1f3b4c75"
      },
      "outputs": [
        {
          "name": "stdout",
          "output_type": "stream",
          "text": [
            "[[0. 0. 0. ... 0. 0. 0.]\n",
            " [1. 0. 0. ... 0. 0. 0.]\n",
            " [0. 0. 0. ... 0. 0. 0.]\n",
            " ...\n",
            " [0. 0. 0. ... 0. 0. 0.]\n",
            " [0. 0. 0. ... 0. 0. 0.]\n",
            " [0. 0. 0. ... 0. 1. 0.]]\n"
          ]
        }
      ],
      "source": [
        "y_train = to_categorical(y_train)\n",
        "y_test = to_categorical(y_test)\n",
        "print(y_train)"
      ]
    },
    {
      "cell_type": "code",
      "execution_count": null,
      "metadata": {
        "colab": {
          "base_uri": "https://localhost:8080/"
        },
        "id": "WTwl_6-afoey",
        "outputId": "240d2286-72cd-42c8-a358-aaaf728def44"
      },
      "outputs": [
        {
          "name": "stdout",
          "output_type": "stream",
          "text": [
            "28\n"
          ]
        }
      ],
      "source": [
        "image_size = x_train.shape[1]\n",
        "print(image_size)"
      ]
    },
    {
      "cell_type": "code",
      "execution_count": null,
      "metadata": {
        "colab": {
          "base_uri": "https://localhost:8080/"
        },
        "id": "lBBOlM4DgIxj",
        "outputId": "2897fcd5-2b12-4270-abe4-8df4c52a8d79"
      },
      "outputs": [
        {
          "name": "stdout",
          "output_type": "stream",
          "text": [
            "(60000, 28, 28)\n"
          ]
        }
      ],
      "source": [
        "print(x_train.shape)"
      ]
    },
    {
      "cell_type": "code",
      "execution_count": null,
      "metadata": {
        "colab": {
          "base_uri": "https://localhost:8080/"
        },
        "id": "LGDEAFgWgOfi",
        "outputId": "01233b33-cd1d-4845-cbf0-72c0abc7d0b4"
      },
      "outputs": [
        {
          "name": "stdout",
          "output_type": "stream",
          "text": [
            "(60000, 28, 28)\n"
          ]
        }
      ],
      "source": [
        "x_train = np.reshape(x_train,[-1, image_size, image_size])\n",
        "print(x_train.shape)"
      ]
    },
    {
      "cell_type": "code",
      "execution_count": null,
      "metadata": {
        "colab": {
          "base_uri": "https://localhost:8080/"
        },
        "id": "AUkpsvABgehs",
        "outputId": "924ef2f2-fc94-4e61-c434-a564dd72e600"
      },
      "outputs": [
        {
          "name": "stdout",
          "output_type": "stream",
          "text": [
            "[[[0 0 0 ... 0 0 0]\n",
            "  [0 0 0 ... 0 0 0]\n",
            "  [0 0 0 ... 0 0 0]\n",
            "  ...\n",
            "  [0 0 0 ... 0 0 0]\n",
            "  [0 0 0 ... 0 0 0]\n",
            "  [0 0 0 ... 0 0 0]]\n",
            "\n",
            " [[0 0 0 ... 0 0 0]\n",
            "  [0 0 0 ... 0 0 0]\n",
            "  [0 0 0 ... 0 0 0]\n",
            "  ...\n",
            "  [0 0 0 ... 0 0 0]\n",
            "  [0 0 0 ... 0 0 0]\n",
            "  [0 0 0 ... 0 0 0]]\n",
            "\n",
            " [[0 0 0 ... 0 0 0]\n",
            "  [0 0 0 ... 0 0 0]\n",
            "  [0 0 0 ... 0 0 0]\n",
            "  ...\n",
            "  [0 0 0 ... 0 0 0]\n",
            "  [0 0 0 ... 0 0 0]\n",
            "  [0 0 0 ... 0 0 0]]\n",
            "\n",
            " ...\n",
            "\n",
            " [[0 0 0 ... 0 0 0]\n",
            "  [0 0 0 ... 0 0 0]\n",
            "  [0 0 0 ... 0 0 0]\n",
            "  ...\n",
            "  [0 0 0 ... 0 0 0]\n",
            "  [0 0 0 ... 0 0 0]\n",
            "  [0 0 0 ... 0 0 0]]\n",
            "\n",
            " [[0 0 0 ... 0 0 0]\n",
            "  [0 0 0 ... 0 0 0]\n",
            "  [0 0 0 ... 0 0 0]\n",
            "  ...\n",
            "  [0 0 0 ... 0 0 0]\n",
            "  [0 0 0 ... 0 0 0]\n",
            "  [0 0 0 ... 0 0 0]]\n",
            "\n",
            " [[0 0 0 ... 0 0 0]\n",
            "  [0 0 0 ... 0 0 0]\n",
            "  [0 0 0 ... 0 0 0]\n",
            "  ...\n",
            "  [0 0 0 ... 0 0 0]\n",
            "  [0 0 0 ... 0 0 0]\n",
            "  [0 0 0 ... 0 0 0]]]\n"
          ]
        }
      ],
      "source": [
        "x_test = np.reshape(x_test, [-1, image_size, image_size])\n",
        "print(x_test)"
      ]
    },
    {
      "cell_type": "code",
      "execution_count": null,
      "metadata": {
        "id": "G4Qn4AzehCc8"
      },
      "outputs": [],
      "source": [
        "x_train = x_train.astype('float32')/255\n",
        "x_test = x_test.astype('float32')/255"
      ]
    },
    {
      "cell_type": "code",
      "execution_count": null,
      "metadata": {
        "id": "lQays9yOhhlU"
      },
      "outputs": [],
      "source": [
        "input_shape = (image_size, image_size)\n",
        "batch_size = 128\n",
        "units = 256\n",
        "dropout = 0.2"
      ]
    },
    {
      "cell_type": "code",
      "execution_count": null,
      "metadata": {
        "colab": {
          "base_uri": "https://localhost:8080/"
        },
        "id": "W-pIqrlqh5cw",
        "outputId": "50de6589-6c56-4772-b172-e8cca8fc37ce"
      },
      "outputs": [
        {
          "name": "stdout",
          "output_type": "stream",
          "text": [
            "Model: \"sequential_1\"\n",
            "_________________________________________________________________\n",
            " Layer (type)                Output Shape              Param #   \n",
            "=================================================================\n",
            " simple_rnn_1 (SimpleRNN)    (None, 256)               72960     \n",
            "                                                                 \n",
            " dense_1 (Dense)             (None, 10)                2570      \n",
            "                                                                 \n",
            " activation_1 (Activation)   (None, 10)                0         \n",
            "                                                                 \n",
            "=================================================================\n",
            "Total params: 75,530\n",
            "Trainable params: 75,530\n",
            "Non-trainable params: 0\n",
            "_________________________________________________________________\n"
          ]
        }
      ],
      "source": [
        "model = Sequential()\n",
        "model.add(SimpleRNN(units,dropout=dropout,input_shape=input_shape))\n",
        "model.add(Dense(num_labels))\n",
        "model.add(Activation('softmax'))\n",
        "model.summary()"
      ]
    },
    {
      "cell_type": "code",
      "execution_count": null,
      "metadata": {
        "colab": {
          "base_uri": "https://localhost:8080/",
          "height": 422
        },
        "id": "3ceKnbdEisp6",
        "outputId": "b0d087df-3d39-4772-d447-a5776e9fd1ed"
      },
      "outputs": [
        {
          "data": {
            "image/png": "[encoded data removed]",
            "text/plain": [
              "<IPython.core.display.Image object>"
            ]
          },
          "execution_count": 32,
          "metadata": {},
          "output_type": "execute_result"
        }
      ],
      "source": [
        "plot_model(model, to_file='rnn-mnist.png', show_shapes=True)"
      ]
    },
    {
      "cell_type": "code",
      "execution_count": null,
      "metadata": {
        "id": "ioLio4uOjA6-"
      },
      "outputs": [],
      "source": [
        "model.compile(loss='categorical_crossentropy', optimizer='sgd', metrics=['accuracy'])\n"
      ]
    },
    {
      "cell_type": "code",
      "execution_count": null,
      "metadata": {
        "colab": {
          "background_save": true,
          "base_uri": "https://localhost:8080/"
        },
        "id": "pOTbEPYKofiM",
        "outputId": "00729ecb-3346-4a69-daf9-705536ccda6f"
      },
      "outputs": [
        {
          "name": "stdout",
          "output_type": "stream",
          "text": [
            "Epoch 1/20\n",
            "469/469 [==============================] - 32s 64ms/step - loss: 0.7621 - accuracy: 0.7811\n",
            "Epoch 2/20\n",
            "469/469 [==============================] - 29s 62ms/step - loss: 0.3250 - accuracy: 0.9048\n",
            "Epoch 3/20\n",
            "469/469 [==============================] - 29s 62ms/step - loss: 0.2444 - accuracy: 0.9276\n",
            "Epoch 4/20\n",
            "469/469 [==============================] - 31s 65ms/step - loss: 0.2016 - accuracy: 0.9390\n",
            "Epoch 5/20\n",
            "469/469 [==============================] - 29s 62ms/step - loss: 0.1739 - accuracy: 0.9485\n",
            "Epoch 6/20\n",
            "469/469 [==============================] - 29s 61ms/step - loss: 0.1538 - accuracy: 0.9540\n",
            "Epoch 7/20\n",
            "469/469 [==============================] - 29s 62ms/step - loss: 0.1422 - accuracy: 0.9571\n",
            "Epoch 8/20\n",
            "469/469 [==============================] - 29s 63ms/step - loss: 0.1267 - accuracy: 0.9625\n",
            "Epoch 9/20\n",
            "469/469 [==============================] - 30s 64ms/step - loss: 0.1188 - accuracy: 0.9645\n",
            "Epoch 10/20\n",
            "469/469 [==============================] - 29s 62ms/step - loss: 0.1134 - accuracy: 0.9657\n",
            "Epoch 11/20\n",
            "469/469 [==============================] - 29s 61ms/step - loss: 0.1058 - accuracy: 0.9687\n",
            "Epoch 12/20\n",
            "469/469 [==============================] - 29s 61ms/step - loss: 0.1009 - accuracy: 0.9699\n",
            "Epoch 13/20\n",
            "469/469 [==============================] - 30s 63ms/step - loss: 0.0964 - accuracy: 0.9705\n",
            "Epoch 14/20\n",
            "469/469 [==============================] - 29s 63ms/step - loss: 0.0905 - accuracy: 0.9721\n",
            "Epoch 15/20\n",
            "469/469 [==============================] - 29s 61ms/step - loss: 0.0864 - accuracy: 0.9737\n",
            "Epoch 16/20\n",
            "469/469 [==============================] - 29s 62ms/step - loss: 0.0841 - accuracy: 0.9746\n",
            "Epoch 17/20\n",
            "469/469 [==============================] - 29s 62ms/step - loss: 0.0813 - accuracy: 0.9755\n",
            "Epoch 18/20\n",
            "469/469 [==============================] - 29s 62ms/step - loss: 0.0784 - accuracy: 0.9758\n",
            "Epoch 19/20\n",
            "469/469 [==============================] - 29s 63ms/step - loss: 0.0755 - accuracy: 0.9769\n",
            "Epoch 20/20\n",
            "469/469 [==============================] - 29s 61ms/step - loss: 0.0738 - accuracy: 0.9774\n"
          ]
        },
        {
          "data": {
            "text/plain": [
              "<keras.callbacks.History at 0x7f67c98ca7d0>"
            ]
          },
          "execution_count": 34,
          "metadata": {},
          "output_type": "execute_result"
        }
      ],
      "source": [
        "model.fit(x_train, y_train, epochs=20, batch_size=batch_size)\n"
      ]
    },
    {
      "cell_type": "code",
      "execution_count": null,
      "metadata": {
        "colab": {
          "background_save": true
        },
        "id": "wHCeWUBs1cXP",
        "outputId": "c241c4d5-028e-41bf-9b66-dbd354bc5960"
      },
      "outputs": [
        {
          "name": "stdout",
          "output_type": "stream",
          "text": [
            "79/79 [==============================] - 2s 20ms/step - loss: 0.0850 - accuracy: 0.9729\n",
            "\n",
            "Test accuracy: 97.3%\n"
          ]
        }
      ],
      "source": [
        "loss, acc = model.evaluate(x_test, y_test, batch_size=batch_size)\n",
        "print(\"\\nTest accuracy: %.1f%%\" % (100.0 * acc))"
      ]
    },
    {
      "cell_type": "code",
      "execution_count": null,
      "metadata": {
        "id": "6OaqzAzQ1myY"
      },
      "outputs": [],
      "source": []
    }
  ],
  "metadata": {
    "colab": {
      "provenance": []
    },
    "kernelspec": {
      "display_name": "Python 3",
      "name": "python3"
    },
    "language_info": {
      "name": "python"
    }
  },
  "nbformat": 4,
  "nbformat_minor": 0
}