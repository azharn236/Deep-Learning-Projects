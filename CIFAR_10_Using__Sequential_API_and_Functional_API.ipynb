{
  "nbformat": 4,
  "nbformat_minor": 0,
  "metadata": {
    "colab": {
      "provenance": [],
      "gpuType": "T4"
    },
    "kernelspec": {
      "name": "python3",
      "display_name": "Python 3"
    },
    "language_info": {
      "name": "python"
    },
    "accelerator": "GPU"
  },
  "cells": [
    {
      "cell_type": "code",
      "execution_count": 2,
      "metadata": {
        "id": "kJ93HEXNgovo"
      },
      "outputs": [],
      "source": [
        "import os\n",
        "os.environ['TF_CPP_MIN_LOG_LEVEL'] = '2'"
      ]
    },
    {
      "cell_type": "code",
      "source": [
        "import tensorflow as tf\n",
        "from tensorflow import keras\n",
        "from keras import layers\n",
        "from keras.datasets import cifar10"
      ],
      "metadata": {
        "id": "5r_WuJsAhZGR"
      },
      "execution_count": 3,
      "outputs": []
    },
    {
      "cell_type": "code",
      "source": [
        "(x_train, y_train), (x_test, y_test) = cifar10.load_data()\n",
        "x_train = x_train.astype(\"float32\")/255.0\n",
        "x_test = x_test.astype(\"float32\")/255.0"
      ],
      "metadata": {
        "colab": {
          "base_uri": "https://localhost:8080/"
        },
        "id": "JTGG5IJPiIme",
        "outputId": "bb0b52c0-a268-4da3-d280-5af3342d3781"
      },
      "execution_count": 4,
      "outputs": [
        {
          "output_type": "stream",
          "name": "stdout",
          "text": [
            "Downloading data from https://www.cs.toronto.edu/~kriz/cifar-10-python.tar.gz\n",
            "170498071/170498071 [==============================] - 2s 0us/step\n"
          ]
        }
      ]
    },
    {
      "cell_type": "code",
      "source": [
        "# Using Sequential API\n",
        "\n",
        "model = keras.Sequential([layers.Conv2D(32, (3, 3), 1, activation='relu', input_shape=(32, 32, 3)),\n",
        "                          layers.MaxPooling2D(pool_size=(2,2)),\n",
        "                          layers.Conv2D(64, (3, 3), 1, activation='relu'),\n",
        "                          layers.MaxPool2D(),\n",
        "                          layers.Conv2D(128, (3, 3), 1, activation='relu'),\n",
        "                          layers.Flatten(),\n",
        "                          layers.Dense(10)])\n",
        "\n",
        "model.compile(loss=keras.losses.SparseCategoricalCrossentropy(from_logits=True),\n",
        "              optimizer=keras.optimizers.Adam(lr=3e-4),\n",
        "              metrics=['accuracy'])\n",
        "\n",
        "model.fit(x_train, y_train, epochs=10, verbose=2)"
      ],
      "metadata": {
        "colab": {
          "base_uri": "https://localhost:8080/"
        },
        "id": "v73PXcgli1eb",
        "outputId": "b6f68d93-3445-49b9-aa85-e7e7443d722d"
      },
      "execution_count": 5,
      "outputs": [
        {
          "output_type": "stream",
          "name": "stderr",
          "text": [
            "WARNING:absl:`lr` is deprecated in Keras optimizer, please use `learning_rate` or use the legacy optimizer, e.g.,tf.keras.optimizers.legacy.Adam.\n"
          ]
        },
        {
          "output_type": "stream",
          "name": "stdout",
          "text": [
            "Epoch 1/10\n",
            "1563/1563 - 17s - loss: 1.4818 - accuracy: 0.4655 - 17s/epoch - 11ms/step\n",
            "Epoch 2/10\n",
            "1563/1563 - 5s - loss: 1.1196 - accuracy: 0.6081 - 5s/epoch - 3ms/step\n",
            "Epoch 3/10\n",
            "1563/1563 - 8s - loss: 0.9649 - accuracy: 0.6634 - 8s/epoch - 5ms/step\n",
            "Epoch 4/10\n",
            "1563/1563 - 6s - loss: 0.8640 - accuracy: 0.7005 - 6s/epoch - 4ms/step\n",
            "Epoch 5/10\n",
            "1563/1563 - 6s - loss: 0.7886 - accuracy: 0.7258 - 6s/epoch - 4ms/step\n",
            "Epoch 6/10\n",
            "1563/1563 - 5s - loss: 0.7269 - accuracy: 0.7469 - 5s/epoch - 3ms/step\n",
            "Epoch 7/10\n",
            "1563/1563 - 5s - loss: 0.6727 - accuracy: 0.7680 - 5s/epoch - 3ms/step\n",
            "Epoch 8/10\n",
            "1563/1563 - 5s - loss: 0.6244 - accuracy: 0.7846 - 5s/epoch - 3ms/step\n",
            "Epoch 9/10\n",
            "1563/1563 - 5s - loss: 0.5817 - accuracy: 0.7986 - 5s/epoch - 3ms/step\n",
            "Epoch 10/10\n",
            "1563/1563 - 6s - loss: 0.5433 - accuracy: 0.8106 - 6s/epoch - 4ms/step\n"
          ]
        },
        {
          "output_type": "execute_result",
          "data": {
            "text/plain": [
              "<keras.src.callbacks.History at 0x7c8778036b00>"
            ]
          },
          "metadata": {},
          "execution_count": 5
        }
      ]
    },
    {
      "cell_type": "code",
      "source": [
        "model.evaluate(x_test, y_test, batch_size=64, verbose=2)"
      ],
      "metadata": {
        "colab": {
          "base_uri": "https://localhost:8080/"
        },
        "id": "PdD0knozn4Q6",
        "outputId": "1a00e7ed-3d75-4acd-89e9-64735d23df11"
      },
      "execution_count": 6,
      "outputs": [
        {
          "output_type": "stream",
          "name": "stdout",
          "text": [
            "157/157 - 1s - loss: 0.8826 - accuracy: 0.7117 - 592ms/epoch - 4ms/step\n"
          ]
        },
        {
          "output_type": "execute_result",
          "data": {
            "text/plain": [
              "[0.882585346698761, 0.7117000222206116]"
            ]
          },
          "metadata": {},
          "execution_count": 6
        }
      ]
    },
    {
      "cell_type": "code",
      "source": [
        "print(model.summary())"
      ],
      "metadata": {
        "colab": {
          "base_uri": "https://localhost:8080/"
        },
        "id": "kiFX8-YeqEIU",
        "outputId": "7e6f6ada-a039-4eed-9e79-20703e2c1bf8"
      },
      "execution_count": 8,
      "outputs": [
        {
          "output_type": "stream",
          "name": "stdout",
          "text": [
            "Model: \"sequential\"\n",
            "_________________________________________________________________\n",
            " Layer (type)                Output Shape              Param #   \n",
            "=================================================================\n",
            " conv2d (Conv2D)             (None, 30, 30, 32)        896       \n",
            "                                                                 \n",
            " max_pooling2d (MaxPooling2  (None, 15, 15, 32)        0         \n",
            " D)                                                              \n",
            "                                                                 \n",
            " conv2d_1 (Conv2D)           (None, 13, 13, 64)        18496     \n",
            "                                                                 \n",
            " max_pooling2d_1 (MaxPoolin  (None, 6, 6, 64)          0         \n",
            " g2D)                                                            \n",
            "                                                                 \n",
            " conv2d_2 (Conv2D)           (None, 4, 4, 128)         73856     \n",
            "                                                                 \n",
            " flatten (Flatten)           (None, 2048)              0         \n",
            "                                                                 \n",
            " dense (Dense)               (None, 10)                20490     \n",
            "                                                                 \n",
            "=================================================================\n",
            "Total params: 113738 (444.29 KB)\n",
            "Trainable params: 113738 (444.29 KB)\n",
            "Non-trainable params: 0 (0.00 Byte)\n",
            "_________________________________________________________________\n",
            "None\n"
          ]
        }
      ]
    },
    {
      "cell_type": "code",
      "source": [
        "# Using Functional API\n",
        "\n",
        "def my_model():\n",
        "  inputs = keras.Input(shape=(32, 32, 3))\n",
        "  x = layers.Conv2D(32, (3, 3), 1)(inputs)\n",
        "  x = layers.BatchNormalization()(x)\n",
        "  x = keras.activations.relu(x)\n",
        "  x = layers.MaxPooling2D()(x)\n",
        "  x = layers.Conv2D(64, (3, 3), 1)(x)\n",
        "  x = layers.BatchNormalization()(x)\n",
        "  x = keras.activations.relu(x)\n",
        "  x = layers.Conv2D(128, (3,3), 1)(x)\n",
        "  x = layers.BatchNormalization()(x)\n",
        "  x = layers.Flatten()(x)\n",
        "  x = layers.Dense(64, activation='relu')(x)\n",
        "  outputs = layers.Dense(10, activation='softmax')(x)\n",
        "  model = keras.Model(inputs=inputs, outputs=outputs)\n",
        "  return model\n",
        "\n",
        "model = my_model()\n",
        "\n",
        "model.compile(loss=keras.losses.SparseCategoricalCrossentropy(from_logits=True),\n",
        "              optimizer=keras.optimizers.Adam(lr=3e-4),\n",
        "              metrics=['accuracy'])\n",
        "\n",
        "model.fit(x_train, y_train, epochs=10, batch_size=64, verbose=2)"
      ],
      "metadata": {
        "colab": {
          "base_uri": "https://localhost:8080/"
        },
        "id": "R7pllqH9qt6r",
        "outputId": "7a554af6-b798-4af9-e9c5-7b5cf8906aa7"
      },
      "execution_count": 20,
      "outputs": [
        {
          "output_type": "stream",
          "name": "stderr",
          "text": [
            "WARNING:absl:`lr` is deprecated in Keras optimizer, please use `learning_rate` or use the legacy optimizer, e.g.,tf.keras.optimizers.legacy.Adam.\n"
          ]
        },
        {
          "output_type": "stream",
          "name": "stdout",
          "text": [
            "Epoch 1/10\n"
          ]
        },
        {
          "output_type": "stream",
          "name": "stderr",
          "text": [
            "/usr/local/lib/python3.10/dist-packages/keras/src/backend.py:5714: UserWarning: \"`sparse_categorical_crossentropy` received `from_logits=True`, but the `output` argument was produced by a Softmax activation and thus does not represent logits. Was this intended?\n",
            "  output, from_logits = _get_logits(\n"
          ]
        },
        {
          "output_type": "stream",
          "name": "stdout",
          "text": [
            "782/782 - 7s - loss: 1.5486 - accuracy: 0.5126 - 7s/epoch - 9ms/step\n",
            "Epoch 2/10\n",
            "782/782 - 4s - loss: 0.9913 - accuracy: 0.6536 - 4s/epoch - 5ms/step\n",
            "Epoch 3/10\n",
            "782/782 - 4s - loss: 0.8444 - accuracy: 0.7048 - 4s/epoch - 5ms/step\n",
            "Epoch 4/10\n",
            "782/782 - 4s - loss: 0.7435 - accuracy: 0.7403 - 4s/epoch - 5ms/step\n",
            "Epoch 5/10\n",
            "782/782 - 4s - loss: 0.6495 - accuracy: 0.7719 - 4s/epoch - 5ms/step\n",
            "Epoch 6/10\n",
            "782/782 - 4s - loss: 0.5817 - accuracy: 0.7948 - 4s/epoch - 5ms/step\n",
            "Epoch 7/10\n",
            "782/782 - 4s - loss: 0.5012 - accuracy: 0.8238 - 4s/epoch - 5ms/step\n",
            "Epoch 8/10\n",
            "782/782 - 4s - loss: 0.4259 - accuracy: 0.8528 - 4s/epoch - 5ms/step\n",
            "Epoch 9/10\n",
            "782/782 - 4s - loss: 0.3623 - accuracy: 0.8736 - 4s/epoch - 5ms/step\n",
            "Epoch 10/10\n",
            "782/782 - 4s - loss: 0.3155 - accuracy: 0.8894 - 4s/epoch - 5ms/step\n"
          ]
        },
        {
          "output_type": "execute_result",
          "data": {
            "text/plain": [
              "<keras.src.callbacks.History at 0x7c86cee42a10>"
            ]
          },
          "metadata": {},
          "execution_count": 20
        }
      ]
    },
    {
      "cell_type": "code",
      "source": [
        "model.evaluate(x_test, y_test, batch_size=64, verbose=2)"
      ],
      "metadata": {
        "colab": {
          "base_uri": "https://localhost:8080/"
        },
        "id": "VcMGzov0vrpF",
        "outputId": "c171af70-aea7-4173-b020-9c44fbf78312"
      },
      "execution_count": 21,
      "outputs": [
        {
          "output_type": "stream",
          "name": "stderr",
          "text": [
            "/usr/local/lib/python3.10/dist-packages/keras/src/backend.py:5714: UserWarning: \"`sparse_categorical_crossentropy` received `from_logits=True`, but the `output` argument was produced by a Softmax activation and thus does not represent logits. Was this intended?\n",
            "  output, from_logits = _get_logits(\n"
          ]
        },
        {
          "output_type": "stream",
          "name": "stdout",
          "text": [
            "157/157 - 1s - loss: 1.0963 - accuracy: 0.6792 - 961ms/epoch - 6ms/step\n"
          ]
        },
        {
          "output_type": "execute_result",
          "data": {
            "text/plain": [
              "[1.0962797403335571, 0.6791999936103821]"
            ]
          },
          "metadata": {},
          "execution_count": 21
        }
      ]
    },
    {
      "cell_type": "code",
      "source": [],
      "metadata": {
        "id": "akg7QZF-4BFV"
      },
      "execution_count": null,
      "outputs": []
    }
  ]
}