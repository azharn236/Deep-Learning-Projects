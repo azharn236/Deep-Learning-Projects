{
  "nbformat": 4,
  "nbformat_minor": 0,
  "metadata": {
    "colab": {
      "provenance": [],
      "gpuType": "T4"
    },
    "kernelspec": {
      "name": "python3",
      "display_name": "Python 3"
    },
    "language_info": {
      "name": "python"
    },
    "accelerator": "GPU"
  },
  "cells": [
    {
      "cell_type": "code",
      "execution_count": 1,
      "metadata": {
        "id": "fRVI8_Yp5mds"
      },
      "outputs": [],
      "source": [
        "import os\n",
        "\n",
        "os.environ['TF_CPP_MIN_LOG_LEVEL'] = '2'\n",
        "\n",
        "import tensorflow as tf\n",
        "from tensorflow import keras\n",
        "from keras import layers, regularizers\n",
        "from keras.datasets import cifar10"
      ]
    },
    {
      "cell_type": "code",
      "source": [
        "(x_train, y_train), (x_test, y_test) = cifar10.load_data()"
      ],
      "metadata": {
        "colab": {
          "base_uri": "https://localhost:8080/"
        },
        "id": "_nJe-0ou_gIV",
        "outputId": "7dbf1b5f-6af8-4cf4-f696-fff12629aa38"
      },
      "execution_count": 2,
      "outputs": [
        {
          "output_type": "stream",
          "name": "stdout",
          "text": [
            "Downloading data from https://www.cs.toronto.edu/~kriz/cifar-10-python.tar.gz\n",
            "170498071/170498071 [==============================] - 13s 0us/step\n"
          ]
        }
      ]
    },
    {
      "cell_type": "code",
      "source": [
        "x_train = x_train.astype('float32')/255.0\n",
        "x_test = x_test.astype('float32')/255.0"
      ],
      "metadata": {
        "id": "Pyrh6HW1_yCq"
      },
      "execution_count": 3,
      "outputs": []
    },
    {
      "cell_type": "code",
      "source": [
        "def my_model():\n",
        "  inputs = keras.Input(shape=(32, 32, 3))\n",
        "  x = layers.Conv2D(32, (3, 3), 1, padding='same', kernel_regularizer=regularizers.l2(0.01))(inputs)\n",
        "  x = layers.BatchNormalization()(x)\n",
        "  x = keras.activations.relu(x)\n",
        "  x = layers.MaxPooling2D()(x)\n",
        "  x = layers.Conv2D(64, (3, 3), 1, padding='same', kernel_regularizer=regularizers.l2(0.01))(x)\n",
        "  x = layers.BatchNormalization()(x)\n",
        "  x = keras.activations.relu(x)\n",
        "  x = layers.MaxPooling2D()(x)\n",
        "  x = layers.Conv2D(128, (3, 3), 1, padding='same', kernel_regularizer=regularizers.l2(0.01))(x)\n",
        "  x = layers.BatchNormalization()(x)\n",
        "  x = keras.activations.relu(x)\n",
        "  x = layers.Flatten()(x)\n",
        "  x = layers.Dense(64, activation='relu', kernel_regularizer=regularizers.l2(0.01))(x)\n",
        "  x = layers.Dropout(0.05)(x)\n",
        "  outputs = layers.Dense(10, activation='softmax')(x)\n",
        "  model = keras.Model(inputs=inputs, outputs=outputs)\n",
        "  return model\n",
        "\n",
        "model = my_model()\n",
        "\n",
        "model.compile(loss='SparseCategoricalCrossentropy',\n",
        "              optimizer=keras.optimizers.Adam(learning_rate=3e-4),\n",
        "              metrics=['Accuracy'])\n",
        "\n",
        "history = model.fit(x_train, y_train, batch_size=64, epochs=10, verbose=2)"
      ],
      "metadata": {
        "colab": {
          "base_uri": "https://localhost:8080/"
        },
        "id": "kiWwwYtz6_El",
        "outputId": "a067a022-977d-41d9-ac07-55bda5583e3e"
      },
      "execution_count": 6,
      "outputs": [
        {
          "output_type": "stream",
          "name": "stdout",
          "text": [
            "Epoch 1/10\n",
            "782/782 - 6s - loss: 2.6949 - Accuracy: 0.5340 - 6s/epoch - 8ms/step\n",
            "Epoch 2/10\n",
            "782/782 - 5s - loss: 1.5773 - Accuracy: 0.6608 - 5s/epoch - 6ms/step\n",
            "Epoch 3/10\n",
            "782/782 - 5s - loss: 1.2674 - Accuracy: 0.7014 - 5s/epoch - 6ms/step\n",
            "Epoch 4/10\n",
            "782/782 - 6s - loss: 1.1300 - Accuracy: 0.7205 - 6s/epoch - 7ms/step\n",
            "Epoch 5/10\n",
            "782/782 - 5s - loss: 1.0495 - Accuracy: 0.7372 - 5s/epoch - 6ms/step\n",
            "Epoch 6/10\n",
            "782/782 - 4s - loss: 0.9989 - Accuracy: 0.7493 - 4s/epoch - 5ms/step\n",
            "Epoch 7/10\n",
            "782/782 - 6s - loss: 0.9608 - Accuracy: 0.7598 - 6s/epoch - 8ms/step\n",
            "Epoch 8/10\n",
            "782/782 - 5s - loss: 0.9334 - Accuracy: 0.7680 - 5s/epoch - 7ms/step\n",
            "Epoch 9/10\n",
            "782/782 - 6s - loss: 0.9019 - Accuracy: 0.7780 - 6s/epoch - 7ms/step\n",
            "Epoch 10/10\n",
            "782/782 - 4s - loss: 0.8880 - Accuracy: 0.7841 - 4s/epoch - 5ms/step\n"
          ]
        }
      ]
    },
    {
      "cell_type": "code",
      "source": [
        "import matplotlib.pyplot as plt\n",
        "\n",
        "plt.plot(history.history['loss'], label='Loss')\n",
        "plt.plot(history.history['Accuracy'], label='Accuracy')\n",
        "plt.legend(\"Top Left\")\n",
        "plt.show()"
      ],
      "metadata": {
        "colab": {
          "base_uri": "https://localhost:8080/",
          "height": 430
        },
        "id": "NPlW4s-2CvSo",
        "outputId": "522eef52-d840-4396-a180-a1e4891111d5"
      },
      "execution_count": 9,
      "outputs": [
        {
          "output_type": "display_data",
          "data": {
            "text/plain": [
              "<Figure size 640x480 with 1 Axes>"
            ],
            "image/png": "[encoded data removed]"
          },
          "metadata": {}
        }
      ]
    },
    {
      "cell_type": "code",
      "source": [
        "model.evaluate(x_test, y_test, batch_size=64, verbose=2)"
      ],
      "metadata": {
        "colab": {
          "base_uri": "https://localhost:8080/"
        },
        "id": "6GxaUmdbBevh",
        "outputId": "b5c53ff9-f445-4aed-b4f2-b99284e66e58"
      },
      "execution_count": 5,
      "outputs": [
        {
          "output_type": "stream",
          "name": "stdout",
          "text": [
            "157/157 - 1s - loss: 1.1304 - Accuracy: 0.7003 - 927ms/epoch - 6ms/step\n"
          ]
        },
        {
          "output_type": "execute_result",
          "data": {
            "text/plain": [
              "[1.130410075187683, 0.7002999782562256]"
            ]
          },
          "metadata": {},
          "execution_count": 5
        }
      ]
    },
    {
      "cell_type": "code",
      "source": [],
      "metadata": {
        "id": "0zB6jfw-Crga"
      },
      "execution_count": null,
      "outputs": []
    }
  ]
}